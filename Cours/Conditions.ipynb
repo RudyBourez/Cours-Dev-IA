{
 "cells": [
  {
   "cell_type": "markdown",
   "metadata": {},
   "source": [
    "# Les conditions\n",
    "\n",
    "## Structure d'une condition\n",
    "\n",
    "if condition1 (booleen):\n",
    "    instruction1\n",
    "elif condition2 (booleen):\n",
    "    instruction2\n",
    "else: \n",
    "    instruction3 \n",
    "\n"
   ]
  }
 ],
 "metadata": {
  "language_info": {
   "name": "python"
  },
  "orig_nbformat": 4
 },
 "nbformat": 4,
 "nbformat_minor": 2
}

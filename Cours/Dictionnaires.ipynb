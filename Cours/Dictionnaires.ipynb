{
 "cells": [
  {
   "cell_type": "markdown",
   "metadata": {},
   "source": [
    "# <font color=\"red\">Les dictionnaires</font>\n",
    "\n",
    "## <font color=\"blue\">Définition:</font>\n",
    "\n",
    "C'est une liste non ordonnée de couples clés-valeurs:"
   ]
  },
  {
   "cell_type": "code",
   "execution_count": 1,
   "metadata": {},
   "outputs": [
    {
     "name": "stdout",
     "output_type": "stream",
     "text": [
      "{'key1': 'valeur1', 'key2': 'Valeur2'}\n"
     ]
    }
   ],
   "source": [
    "my_dict = {\"key1\": \"valeur1\", \"key2\": \"Valeur2\"}\n",
    "print(my_dict)"
   ]
  },
  {
   "cell_type": "markdown",
   "metadata": {},
   "source": [
    "Les dictionnaires n'ont donc pas d'index\n",
    "\n",
    "3 possibilitès pour créer un dictionnaire:\n",
    "* my_dict = {}\n",
    "* my_dict = dict()\n",
    "* my_dict = {\"key\": \"valeur\"}\n",
    "\n",
    "## <font color=\"blue\">Naviguer dans le dictionnaire</font>"
   ]
  },
  {
   "cell_type": "code",
   "execution_count": 2,
   "metadata": {},
   "outputs": [
    {
     "name": "stdout",
     "output_type": "stream",
     "text": [
      "valeur1\n",
      "Valeur2\n"
     ]
    }
   ],
   "source": [
    "print(my_dict[\"key1\"])\n",
    "print(my_dict[\"key2\"])"
   ]
  },
  {
   "cell_type": "markdown",
   "metadata": {},
   "source": [
    "On peut également accéder à toutes les clefs, toutes les valeurs ou tous les objets d'un dictionnaire"
   ]
  },
  {
   "cell_type": "code",
   "execution_count": 3,
   "metadata": {},
   "outputs": [
    {
     "name": "stdout",
     "output_type": "stream",
     "text": [
      "dict_values(['valeur1', 'Valeur2']) dict_keys(['key1', 'key2']) dict_items([('key1', 'valeur1'), ('key2', 'Valeur2')])\n"
     ]
    }
   ],
   "source": [
    "print(my_dict.values(), my_dict.keys(), my_dict.items())"
   ]
  },
  {
   "cell_type": "markdown",
   "metadata": {},
   "source": []
  }
 ],
 "metadata": {
  "interpreter": {
   "hash": "7754f1c53bb33bd820706ba8feb51581fc4f65eb5997df896d4d8e79960a24e5"
  },
  "kernelspec": {
   "display_name": "Python 3.8.8 64-bit ('base': conda)",
   "language": "python",
   "name": "python3"
  },
  "language_info": {
   "codemirror_mode": {
    "name": "ipython",
    "version": 3
   },
   "file_extension": ".py",
   "mimetype": "text/x-python",
   "name": "python",
   "nbconvert_exporter": "python",
   "pygments_lexer": "ipython3",
   "version": "3.8.8"
  },
  "orig_nbformat": 4
 },
 "nbformat": 4,
 "nbformat_minor": 2
}

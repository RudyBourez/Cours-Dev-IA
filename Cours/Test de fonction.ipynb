{
 "cells": [
  {
   "cell_type": "markdown",
   "metadata": {},
   "source": [
    "# Test des fonctions\n",
    "\n",
    "Il faut partir du principe q'une une fonction non testée n'existe pas\n",
    "\n",
    "## Définition\n",
    "\n",
    "* Test unitaire: savoir si fonction marche sans devoir tester tous les cas de figure\n",
    "* Test de non régression : après modification, tester si ce qui marche avant fonctionne encore\n",
    "* Test d'intégration : vérifier que 2 parties de code fonctionnent ensemble\n",
    "* Test fonctionnel : vérifier qu'une fonctionnalité fonctionne du début à la fin\n",
    "\n",
    "Ce n'est pas interessant de savoir comme marche la fonction, le but est de savoir si la fonction est opérationnelle  \n",
    "\n",
    "## Test\n",
    "\n",
    "Deux bibliothèques:  \n",
    "* pytest (pip install pytest)\n",
    "* unitest"
   ]
  },
  {
   "cell_type": "code",
   "execution_count": null,
   "metadata": {},
   "outputs": [],
   "source": [
    "import pytest\n",
    "from fonction import add\n",
    "\n",
    "def test_add (a,b):\n",
    "    assert add(3,4) == 7\n",
    "    assert add(\"a\",\"b\") == \"ab\"\n"
   ]
  },
  {
   "cell_type": "markdown",
   "metadata": {},
   "source": [
    "## Estimer sa couverture de test\n",
    "\n",
    "Installer coverage et pytest-cov (pip install coverage ==> pip install pytest-cov)\n",
    "Et lancer la commande pytest --cov==nom_fichier"
   ]
  }
 ],
 "metadata": {
  "language_info": {
   "name": "python"
  },
  "orig_nbformat": 4
 },
 "nbformat": 4,
 "nbformat_minor": 2
}

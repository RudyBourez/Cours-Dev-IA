{
 "cells": [
  {
   "cell_type": "markdown",
   "metadata": {},
   "source": [
    "# <font color=\"red\">Les fonctions</font>\n",
    "\n",
    "## <font color=\"blue\">Définition</font>\n",
    "\n",
    "Une fonction est un bloc de code nommable avec un but spécifique  \n",
    "Il existe deux types de fonction :  \n",
    "* Fonctions build-in (Ex: max(x), len(x)) : existe déjà dans Python  \n",
    "* Fonctions que l'on définit:  \n",
    "------def nom(paramètres):  \n",
    "------------instructions  \n",
    "------------return something  \n",
    "\n",
    "------ nom(param1, param2) : appel de la fonction nom avec les paramètres param1 et param2  \n",
    "\n",
    "## <font color=\"blue\">Pep 8</font>\n",
    "\n",
    "* Devrait posséder une docstring pour commenter la fonction:  \n",
    "** Cela permet de taper help(fonction) pour accéder au docstring  \n",
    "* Nommées en minuscule et avec tiret du bas (snakeCase)\n",
    "* Pas d'espace pour les paramètres my_function(my_param=True)\n",
    "\n",
    "## <font color=\"blue\">Paramètres</font>\n",
    "\n",
    "* Peuvent être par défaut : add(a=5,b=10)\n",
    "* On peut placer une liste en argument avec *: add(a, *b)"
   ]
  },
  {
   "cell_type": "code",
   "execution_count": 5,
   "metadata": {},
   "outputs": [
    {
     "name": "stdout",
     "output_type": "stream",
     "text": [
      "(8, 7, 6)\n"
     ]
    },
    {
     "data": {
      "text/plain": [
       "11"
      ]
     },
     "execution_count": 5,
     "metadata": {},
     "output_type": "execute_result"
    }
   ],
   "source": [
    "def add(a, *b):\n",
    "    print(b)\n",
    "    return a + min(b)\n",
    "add(5,8,7,6)"
   ]
  }
 ],
 "metadata": {
  "interpreter": {
   "hash": "194b2fee8c7487a12bbf9fc6eab356934cf97f6074391a15e823a0b45f3e9552"
  },
  "kernelspec": {
   "display_name": "Python 3.10.0 64-bit",
   "language": "python",
   "name": "python3"
  },
  "language_info": {
   "codemirror_mode": {
    "name": "ipython",
    "version": 3
   },
   "file_extension": ".py",
   "mimetype": "text/x-python",
   "name": "python",
   "nbconvert_exporter": "python",
   "pygments_lexer": "ipython3",
   "version": "3.10.0"
  },
  "orig_nbformat": 4
 },
 "nbformat": 4,
 "nbformat_minor": 2
}

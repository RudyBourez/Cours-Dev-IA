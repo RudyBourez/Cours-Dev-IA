{
 "cells": [
  {
   "cell_type": "markdown",
   "metadata": {},
   "source": [
    "# <font color=\"red\">Les boucles</font>\n",
    "\n",
    "## <font color=\"blue\">La boucle for:</font>\n",
    "\n",
    "* <font color=\"green\">Parcourir une liste</font>\n",
    "\n",
    "liste = [1, 5, 7, 9, 11]  \n",
    "\n",
    "for element in liste:  \n",
    "---print(element)  \n",
    "\n",
    "Parcourt chaque élement de la liste\n",
    "\n",
    "* <font color=\"green\">Parcourir un certain nombre de fois:</font>\n",
    "\n",
    "for i in range(a, b, c):  \n",
    "---do something  \n",
    "\n",
    "Faire une tâche de a à b fois avec un pas de c  \n",
    "\n",
    "Exemple :  \n",
    "for i in rane(0, 10, 2):  \n",
    "---print(i)  \n",
    "\n",
    "Va donner 0, 2, 4, 6 et 8  \n",
    "\n",
    "## <font color=\"blue\"> La boucle while: </font>\n",
    "\n",
    "Lance une instruction tant que la condition est vraie  \n",
    "\n",
    "while condition:  \n",
    "---instruction  \n",
    "\n",
    "Attention à la boucle infinie  \n"
   ]
  }
 ],
 "metadata": {
  "language_info": {
   "name": "python"
  },
  "orig_nbformat": 4
 },
 "nbformat": 4,
 "nbformat_minor": 2
}

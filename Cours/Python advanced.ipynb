{
 "cells": [
  {
   "cell_type": "markdown",
   "metadata": {},
   "source": [
    "# <font color=\"red\">Python advanced</font>\n",
    "\n",
    "## <font color=\"blue\">Compréhension:</font>\n",
    "\n",
    "### <font color=\"green\">Compréhension de liste (list comprehension):</font>\n",
    "\n",
    "C'est une méthode de travail sur les listes"
   ]
  },
  {
   "cell_type": "code",
   "execution_count": 6,
   "metadata": {},
   "outputs": [
    {
     "name": "stdout",
     "output_type": "stream",
     "text": [
      "[-1, 3, -4, 7, 20, -9, -20, 21] [3, 7, 20, 21] [1, 3, 4, 7, 20, 9, 20, 21] [16, 49, 400, 81, 400, 441]\n"
     ]
    }
   ],
   "source": [
    "my_list = [-1, 3, -4, 7, 20, -9, -20, 21]\n",
    "my_list_filtered = [i for i in my_list if i > 0]\n",
    "my_list_abs = [abs(i) for i in my_list]\n",
    "my_list_tosquare_isup3 = [i ** 2 for i in my_list if abs(i)>3]\n",
    "\n",
    "print(my_list, my_list_filtered, my_list_abs, my_list_tosquare_isup3)"
   ]
  },
  {
   "cell_type": "markdown",
   "metadata": {},
   "source": [
    "Structure avec else:"
   ]
  },
  {
   "cell_type": "code",
   "execution_count": 8,
   "metadata": {},
   "outputs": [
    {
     "name": "stdout",
     "output_type": "stream",
     "text": [
      "[4, 20, 20]\n"
     ]
    }
   ],
   "source": [
    "abs_list = [i if i > 0 else -i for i in my_list if i%2 == 0]\n",
    "print(abs_list)"
   ]
  },
  {
   "cell_type": "markdown",
   "metadata": {},
   "source": [
    "### <font color=\"green\">Compréhension de dictionnaire (dictionnary comprehension):</font>\n",
    "\n",
    "C'est une méthode de travail sur les dictionnaires"
   ]
  },
  {
   "cell_type": "code",
   "execution_count": 10,
   "metadata": {},
   "outputs": [
    {
     "name": "stdout",
     "output_type": "stream",
     "text": [
      "{'one': 1, 'two': 2, 'three': 3}\n"
     ]
    }
   ],
   "source": [
    "keys_list = [\"one\", \"two\", \"three\"]\n",
    "my_dict = {keys_list[i]:i+1 for i in range(len(keys_list))}\n",
    "print(my_dict)"
   ]
  },
  {
   "cell_type": "markdown",
   "metadata": {},
   "source": [
    "Ca s'écrit donc toujours de la manière suivante:  \n",
    "dict = {[key:value] [parcours] [conditions]}"
   ]
  },
  {
   "cell_type": "markdown",
   "metadata": {},
   "source": [
    "## <font color=\"blue\">Pass, Break and Continue</font>\n",
    "\n",
    "### <font color=\"green\">Break:</font>\n",
    "\n",
    "Cette méthode permet de quitter une fonction ou une boucle une fois rencontrée"
   ]
  },
  {
   "cell_type": "code",
   "execution_count": 12,
   "metadata": {},
   "outputs": [
    {
     "name": "stdout",
     "output_type": "stream",
     "text": [
      "[0, 1, 2, 3, 4] [0]\n"
     ]
    }
   ],
   "source": [
    "list_1 = []\n",
    "list_2 = []\n",
    "for i in range(5):\n",
    "    list_1.append(i)\n",
    "\n",
    "for i in range(5):\n",
    "    list_2.append(i)\n",
    "    break\n",
    "\n",
    "print(list_1, list_2)"
   ]
  },
  {
   "cell_type": "markdown",
   "metadata": {},
   "source": [
    "### <font color=\"green\">Pass:</font>\n",
    "\n",
    "Cette méthode permet de passer à la ligne suivant une fois rencontrée. On s'en sert pour juste définir une fonction ou  \n",
    "pour sortir d'un tour de boucle derrière une condition"
   ]
  },
  {
   "cell_type": "code",
   "execution_count": null,
   "metadata": {},
   "outputs": [],
   "source": [
    "for i in range(0,5):\n",
    "    print(i)\n",
    "    print(\"Encore?\")\n",
    "\n",
    "for i in range(0,5):\n",
    "    print(i)\n",
    "    if i>2:\n",
    "        pass\n",
    "    else: print(\"Encore?\")"
   ]
  },
  {
   "cell_type": "markdown",
   "metadata": {},
   "source": [
    "### <font color=\"green\">Continue:</font>\n",
    "\n",
    "Cette méthode permet de passer au tour de boucle suivant une fois rencontrée"
   ]
  },
  {
   "cell_type": "code",
   "execution_count": null,
   "metadata": {},
   "outputs": [],
   "source": [
    "for i in range(0,5):\n",
    "    print(i)\n",
    "    if i >= 2:\n",
    "        continue\n",
    "    print(\"encore?\")"
   ]
  }
 ],
 "metadata": {
  "interpreter": {
   "hash": "7754f1c53bb33bd820706ba8feb51581fc4f65eb5997df896d4d8e79960a24e5"
  },
  "kernelspec": {
   "display_name": "Python 3.8.8 64-bit ('base': conda)",
   "language": "python",
   "name": "python3"
  },
  "language_info": {
   "codemirror_mode": {
    "name": "ipython",
    "version": 3
   },
   "file_extension": ".py",
   "mimetype": "text/x-python",
   "name": "python",
   "nbconvert_exporter": "python",
   "pygments_lexer": "ipython3",
   "version": "3.8.8"
  },
  "orig_nbformat": 4
 },
 "nbformat": 4,
 "nbformat_minor": 2
}

{
 "cells": [
  {
   "cell_type": "markdown",
   "metadata": {},
   "source": [
    "# <font color=\"red\">Les listes</font>\n",
    "## <font color=\"blue\">Définition</font>\n",
    "* Une liste est une collection d'objets:\n",
    "    * Peuvent avoir la même nature\n",
    "    * l'ordre compte, elle est ordonnée (contrairement aux dictionnaires)\n",
    "    * les éléments peuvent être modifiés (contrairement aux tuples)\n",
    "\n",
    "liste = []\n",
    "\n",
    "## <font color=\"blue\">Accéder aux listes:</font>\n",
    "Accés à l'aide d'index:  \n",
    "    first_element = liste[0]    \n",
    "    third_element = liste[2]  \n",
    "    last_element = liste[-1]\n",
    "\n",
    "    three_first_element = liste[:2]\n",
    "    three_last_element = liste[-3:]\n",
    "\n",
    "## <font color=\"blue\">Fonctions utiles: </font>\n",
    "len(liste) : donne le nombre d'élement d'une liste\n",
    "sum(liste) : additionne chaque élément d'une liste\n",
    "\n",
    "## <font color=\"blue\">Méthodes: </font>\n",
    "liste.append(element) : ajoute un élément à la fin  \n",
    "liste.insert(position, element) : ajoute un élément à une certaine position  \n",
    "liste.extend(liste2) : fusionne deux listes  \n",
    "liste.remove(element) : retire element de la liste  \n",
    "liste.pop([position]) : supprime le dernier element  \n",
    "liste.sort() : tri la liste  \n",
    "liste.index(element) : retrouve le plus petit index pour un element  \n",
    "liste.copy() : Permet de créer une copie de liste\n"
   ]
  }
 ],
 "metadata": {
  "language_info": {
   "name": "python"
  },
  "orig_nbformat": 4
 },
 "nbformat": 4,
 "nbformat_minor": 2
}

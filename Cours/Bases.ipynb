{
 "cells": [
  {
   "cell_type": "markdown",
   "metadata": {},
   "source": [
    "# <font color=\"red\"> Raccourcis </font>\n",
    "* a = créer nouvelle cellule avant\n",
    "* b = créer nouvelle cellule après\n",
    "* m = passer en markdown\n",
    "* y = passer en mode script\n",
    "* dd = suppirmer cellule\n",
    "* z = annuler dernière \n",
    "* shift + alt + a = commentaires multiligne (docstring)\n",
    "* ctrl + : = commentaire monoligne\n",
    "* tab = indenter ou remplissage auto"
   ]
  },
  {
   "cell_type": "markdown",
   "metadata": {},
   "source": [
    "# <font color=\"red\"> Commentaires </font>\n",
    "    # ... = une seule ligne\n",
    "    \"\"\" .... \"\"\" = plusieurs lignes"
   ]
  },
  {
   "cell_type": "markdown",
   "metadata": {},
   "source": [
    "# <font color='red'> Pep 8 </font>\n",
    "## <font color=\"blue\"> Pep 8 sur les commentaires </font>\n",
    "* Ecrivez des phrases complètes, ponctuées et compréhensibles.\n",
    "* Le commentaire doit être cohérent avec le code.\n",
    "* Il doit suivre la même indentation que le code qu'il commente.\n",
    "* Evitez d'enfoncer des portes ouvertes : ne décrivez pas le code, expliquez plutôt à quoi il sert.\n",
    "* Il doit être en anglais.\n",
    "\n",
    "## <font color=\"blue\"> Script </font>\n",
    "* Mettre un espace entre le \"=\" et les valeurs\n",
    "* Utiliser des noms descriptifs pour les variables (Ex : quantite_en_stock au lieu de qte)\n",
    "* Convention d'appellation commune : snakecase ou kamelcase par \n",
    "* age != Age != AGE (sensibilité à la casse)"
   ]
  },
  {
   "cell_type": "markdown",
   "metadata": {},
   "source": [
    "# <font color=\"red\"> Variables </font>\n",
    "\n",
    "* boolean = True\n",
    "* string = \"Hello World\"\n",
    "* entier = 3\n",
    "* float_ = 3.76\n",
    "\n",
    "Suppresion de Variables:  \n",
    "    Méthode \"del ... \"\n",
    "\n",
    "Modification de variables:  \n",
    "    ex :  \n",
    "        boolean = False  \n",
    "        entier += 1\n",
    "\n",
    "Modification du type de variable:   \n",
    "    str() ==> retourne une chaîne de caractère  \n",
    "    int() ==> retourne un entier  \n",
    "    float() ==> retourne un décimal  \n",
    "    bool() ==> retourne un booléen  \n",
    "\n",
    "Opération sur les variables:  \n",
    "    a + b : addition de a et b   \n",
    "    a - b : soustraction de a par b  \n",
    "    a * b : multiplication de a par b  \n",
    "    a ** b : a puissance b  \n",
    "    a / b : division de a par b  \n",
    "    a // b : division sans reste de a par b (ex: 12 // 7 = 1)  \n",
    "    a % b : reste de a / b (ex : 12 % 7 = 5)  \n",
    "\n"
   ]
  },
  {
   "cell_type": "code",
   "execution_count": 4,
   "metadata": {},
   "outputs": [
    {
     "name": "stdout",
     "output_type": "stream",
     "text": [
      "True <class 'bool'>\n",
      "Hello World <class 'str'>\n",
      "3 <class 'int'>\n",
      "3.76 <class 'float'>\n",
      "True Hello World 3 3.76\n",
      "----------------------------------\n",
      "False Hello World 4 3.76\n"
     ]
    }
   ],
   "source": [
    "boolean = True\n",
    "print(boolean, type(boolean))\n",
    "\n",
    "string = \"Hello World\"\n",
    "print(string, type(string))\n",
    "\n",
    "entier = 3\n",
    "print(entier, type(entier))\n",
    "\n",
    "float_ = 3.76\n",
    "print(float_, type(float_))\n",
    "\n",
    "print(boolean, string, entier, float_)\n",
    "print(\"----------------------------------\")\n",
    "\n",
    "\n",
    "boolean = False\n",
    "entier += 1\n",
    "print(boolean, string, entier, float_)"
   ]
  },
  {
   "cell_type": "markdown",
   "metadata": {},
   "source": [
    "# <font color=\"red\"> Chaînes de caractère: </font>\n",
    "\n",
    "* Aller à la ligne :  \n",
    "    - variable = \"\"\"J'aime\n",
    "le Python\"\"\"\n",
    "    - variable = \"J'aime \\n le python\"\n",
    "* Accéder à la taille d'une chaîne : len(variable)    \n",
    "* Accéder à un élèment d'une chaîne : variable[index]\n",
    "* Passer tout en minuscule : variable.lower()\n",
    "* Passer tout en majuscule : variable.upper()\n",
    "* Mettre une majuscule à la première lettre : variable.capitalize()\n",
    "* Remplacer un mot par un autre : variable.replace(mot à remplacer, mot)\n",
    "* Chercher un emplacement dans une chaîne : variable.find(mot, index de début, index de fin) (renvoie -1 si mot pas trouvé)\n",
    "* Subdiviser une chaîne sous forme de liste : variable.split(séparateur)\n",
    "* Compter le nombre d'élément dans une chaîne : variable.count(mot)\n",
    "* Formater une chaîne : \n",
    "    - variable = \"Quelle {} et {} journée\".format(\"belle\", \"bonne\")\n",
    "    - varibale = \"Quelle {adjectif_1} et {adjectif_2} journée\".format(adjectif2=\"bonne\", adjectif1=\"belle\")"
   ]
  },
  {
   "cell_type": "markdown",
   "metadata": {},
   "source": [
    "# <font color=\"red\"> Les booléens </font>\n",
    "\n",
    "## <font color=\"blue\"> Comparaison des variables (renvoie un booléen): </font>  \n",
    "\n",
    "    a == b : vérifie si a est identique à b  \n",
    "    a != b : vérifie si a est différent de b  \n",
    "    a < b : vérifie si a est strictement inférieur à b\n",
    "    a > b : vérifie si a est strictement supérieur à b\n",
    "    a <= b : vérifie si a est inférieur ou égal à b\n",
    "    a >= b : vérifie si a est supérieur ou égal à b\n",
    "    a is ... : vérifie si a est de type ...\n",
    "    a is not ... : vérifie si a n'est pas de type ...\n",
    "    a in b : vérifie si a appartient à b\n",
    "    a not in b : vérifie si a n'appartient pas à b\n",
    "\n",
    "## <font color=\"blue\"> Combinaison des booléens </font>:\n",
    "\n",
    "t = True\n",
    "f = False\n",
    "\n",
    "t and f = t & f : porte ET/AND\n",
    "t or f = t | f : porte OU/OR\n",
    "not t : porte INVERSE"
   ]
  },
  {
   "cell_type": "code",
   "execution_count": 8,
   "metadata": {},
   "outputs": [
    {
     "name": "stdout",
     "output_type": "stream",
     "text": [
      "True\n"
     ]
    }
   ],
   "source": []
  }
 ],
 "metadata": {
  "interpreter": {
   "hash": "194b2fee8c7487a12bbf9fc6eab356934cf97f6074391a15e823a0b45f3e9552"
  },
  "kernelspec": {
   "display_name": "Python 3.10.0 64-bit",
   "name": "python3"
  },
  "language_info": {
   "codemirror_mode": {
    "name": "ipython",
    "version": 3
   },
   "file_extension": ".py",
   "mimetype": "text/x-python",
   "name": "python",
   "nbconvert_exporter": "python",
   "pygments_lexer": "ipython3",
   "version": "3.10.0"
  },
  "orig_nbformat": 4
 },
 "nbformat": 4,
 "nbformat_minor": 2
}

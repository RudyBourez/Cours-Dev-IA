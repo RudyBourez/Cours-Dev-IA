{
 "cells": [
  {
   "cell_type": "markdown",
   "metadata": {},
   "source": [
    "# <font color=\"red\">Les fonctions utiles</font>\n",
    "\n",
    "## <font color=\"blue\">Enumerate:</font>\n",
    "\n",
    "C'est une fonction build-in permettant de créer un compteur automatique\n"
   ]
  },
  {
   "cell_type": "code",
   "execution_count": null,
   "metadata": {},
   "outputs": [],
   "source": [
    "my_list = ['apple', \"banana\", \"raspberry\", \"blueberry\"]\n",
    "\n",
    "for counter, value in enumerate(my_list, 1):\n",
    "    print(counter, value)"
   ]
  },
  {
   "cell_type": "markdown",
   "metadata": {},
   "source": [
    "Il est donc possible de fusionner facilement plusieurs listes entre-elles à l'aide du compteur par exemple.\n",
    "\n",
    "## <font color=\"blue\">Zip:</font>\n",
    "\n",
    "La fonction zip() permet de fusionner plusieurs en une en créant une liste de tuples."
   ]
  },
  {
   "cell_type": "code",
   "execution_count": 3,
   "metadata": {},
   "outputs": [
    {
     "name": "stdout",
     "output_type": "stream",
     "text": [
      "[('A', 1, True), ('B', 2, True), ('C', 3, False), ('D', 4, True)]\n"
     ]
    }
   ],
   "source": [
    "list_1 = [\"A\", \"B\", \"C\", \"D\"]\n",
    "list_2 = [1, 2, 3, 4]\n",
    "list_3 = [True, True, False, True]\n",
    "\n",
    "list_zip = list(zip(list_1, list_2, list_3))\n",
    "print(list_zip)"
   ]
  },
  {
   "cell_type": "markdown",
   "metadata": {},
   "source": [
    "Il est également possible de \"dézip\" une liste en notant qu'il est important qu'il faut mettre * avant la variable liste"
   ]
  },
  {
   "cell_type": "code",
   "execution_count": 7,
   "metadata": {},
   "outputs": [
    {
     "name": "stdout",
     "output_type": "stream",
     "text": [
      "('A', 'B', 'C', 'D') (1, 2, 3, 4) (True, True, False, True)\n"
     ]
    }
   ],
   "source": [
    "list = [('A', 1, True), ('B', 2, True), ('C', 3, False), ('D', 4, True)]\n",
    "list_1, list_2, list_3 = zip(*list)\n",
    "print(list_1, list_2, list_3)"
   ]
  },
  {
   "cell_type": "markdown",
   "metadata": {},
   "source": [
    "## <font color=\"blue\">Lambda</font>\n",
    "\n",
    "Fonction anonyme que l'on peut définir sur une ligne"
   ]
  },
  {
   "cell_type": "code",
   "execution_count": null,
   "metadata": {},
   "outputs": [],
   "source": [
    "def multiply_by_2(x):\n",
    "    return 2 * x\n",
    "\n",
    "print(multiply_by_2(3))\n",
    "\n",
    "multiply_by_2_lambda = lambda x: 2 * x\n",
    "print(multiply_by_2_lambda(3))\n",
    "\n",
    "print((lambda x: 2 * x)(3))"
   ]
  },
  {
   "cell_type": "markdown",
   "metadata": {},
   "source": [
    "Tout ce que l'on peut faire avec une fonction lambda sont faisable avec une fonction définie. Ces fonctions sont utiles quand on cherche à utiliser une fonction une seule fois. Cas régulier, la fonction map() utilise une fonction comme argument, on applique donc souvent une fonction lambda. Même cas pour la fonction filter()"
   ]
  },
  {
   "cell_type": "markdown",
   "metadata": {},
   "source": [
    "### <font color=\"green\">Map</font>\n",
    "\n",
    "Cette fonction permet d'appliquer une fonction à tous les élements d'une liste (souvent lambda):  \n",
    "map(function_to_apply, liste)"
   ]
  },
  {
   "cell_type": "code",
   "execution_count": 6,
   "metadata": {},
   "outputs": [
    {
     "name": "stdout",
     "output_type": "stream",
     "text": [
      "[1, 2, 3, 4, 5] [1, 4, 9, 16, 25]\n"
     ]
    }
   ],
   "source": [
    "items = [1, 2, 3, 4, 5]  \n",
    "squared = list(map(lambda x: x**2, items))\n",
    "\n",
    "print(items, squared)"
   ]
  },
  {
   "cell_type": "markdown",
   "metadata": {},
   "source": [
    "### <font color=\"green\">Filter</font>\n",
    "\n",
    "Cette fonction s'utilise de la même manière que la fonction map mais cette fois on cherche à filtrer les élements d'une liste et non les modifier:  \n",
    "filter(function_to_apply, liste)"
   ]
  },
  {
   "cell_type": "code",
   "execution_count": 5,
   "metadata": {},
   "outputs": [
    {
     "name": "stdout",
     "output_type": "stream",
     "text": [
      "[-5, -4, -3, -2, -1, 0, 1, 2, 3, 4]\n",
      "[-5, -4, -3, -2, -1]\n"
     ]
    }
   ],
   "source": [
    "number_list = list(range(-5, 5))\n",
    "less_than_zero = list(filter(lambda x: x < 0, number_list))\n",
    "\n",
    "print(number_list)\n",
    "print(less_than_zero)"
   ]
  },
  {
   "cell_type": "markdown",
   "metadata": {},
   "source": [
    "### <font color=\"green\">Reduce</font>\n",
    "\n",
    "Permet d'effectuer des opérations entre élément d'une liste. Il faut importer functools pour l'utiliser:  \n",
    "reduce(function_to_apply, liste)"
   ]
  },
  {
   "cell_type": "code",
   "execution_count": null,
   "metadata": {},
   "outputs": [],
   "source": [
    "from functools import reduce\n",
    "\n",
    "product = reduce(lambda x,y : x * y, [1, 2, 3, 4])\n",
    "print(product)"
   ]
  },
  {
   "cell_type": "markdown",
   "metadata": {},
   "source": [
    "## Try-except\n",
    "\n",
    "Permet de poursuivre un code même en rencontrant une erreur"
   ]
  },
  {
   "cell_type": "code",
   "execution_count": 7,
   "metadata": {},
   "outputs": [
    {
     "name": "stdout",
     "output_type": "stream",
     "text": [
      "a est deux fois plus grand que b\n",
      "C'est déjà la fin de cette fonction\n"
     ]
    },
    {
     "ename": "TypeError",
     "evalue": "unsupported operand type(s) for /: 'int' and 'str'",
     "output_type": "error",
     "traceback": [
      "\u001b[1;31m---------------------------------------------------------------------------\u001b[0m",
      "\u001b[1;31mTypeError\u001b[0m                                 Traceback (most recent call last)",
      "\u001b[1;32m<ipython-input-7-e8675a9bd473>\u001b[0m in \u001b[0;36m<module>\u001b[1;34m\u001b[0m\n\u001b[0;32m      5\u001b[0m \u001b[1;33m\u001b[0m\u001b[0m\n\u001b[0;32m      6\u001b[0m \u001b[0mdivision\u001b[0m\u001b[1;33m(\u001b[0m\u001b[1;36m8\u001b[0m\u001b[1;33m,\u001b[0m \u001b[1;36m4\u001b[0m\u001b[1;33m)\u001b[0m\u001b[1;33m\u001b[0m\u001b[1;33m\u001b[0m\u001b[0m\n\u001b[1;32m----> 7\u001b[1;33m \u001b[0mdivision\u001b[0m\u001b[1;33m(\u001b[0m\u001b[1;36m8\u001b[0m\u001b[1;33m,\u001b[0m \u001b[1;34m\"a\"\u001b[0m\u001b[1;33m)\u001b[0m\u001b[1;33m\u001b[0m\u001b[1;33m\u001b[0m\u001b[0m\n\u001b[0m",
      "\u001b[1;32m<ipython-input-7-e8675a9bd473>\u001b[0m in \u001b[0;36mdivision\u001b[1;34m(a, b)\u001b[0m\n\u001b[0;32m      1\u001b[0m \u001b[1;32mdef\u001b[0m \u001b[0mdivision\u001b[0m\u001b[1;33m(\u001b[0m\u001b[0ma\u001b[0m\u001b[1;33m,\u001b[0m\u001b[0mb\u001b[0m\u001b[1;33m)\u001b[0m\u001b[1;33m:\u001b[0m\u001b[1;33m\u001b[0m\u001b[1;33m\u001b[0m\u001b[0m\n\u001b[1;32m----> 2\u001b[1;33m     \u001b[1;32mif\u001b[0m \u001b[0ma\u001b[0m \u001b[1;33m/\u001b[0m \u001b[0mb\u001b[0m \u001b[1;33m>=\u001b[0m \u001b[1;36m2\u001b[0m\u001b[1;33m:\u001b[0m\u001b[1;33m\u001b[0m\u001b[1;33m\u001b[0m\u001b[0m\n\u001b[0m\u001b[0;32m      3\u001b[0m         \u001b[0mprint\u001b[0m\u001b[1;33m(\u001b[0m\u001b[1;34m\"a est deux fois plus grand que b\"\u001b[0m\u001b[1;33m)\u001b[0m\u001b[1;33m\u001b[0m\u001b[1;33m\u001b[0m\u001b[0m\n\u001b[0;32m      4\u001b[0m     \u001b[0mprint\u001b[0m\u001b[1;33m(\u001b[0m\u001b[1;34m'C\\'est déjà la fin de cette fonction'\u001b[0m\u001b[1;33m)\u001b[0m\u001b[1;33m\u001b[0m\u001b[1;33m\u001b[0m\u001b[0m\n\u001b[0;32m      5\u001b[0m \u001b[1;33m\u001b[0m\u001b[0m\n",
      "\u001b[1;31mTypeError\u001b[0m: unsupported operand type(s) for /: 'int' and 'str'"
     ]
    }
   ],
   "source": [
    "def division(a,b):\n",
    "    if a / b >= 2:\n",
    "        print(\"a est deux fois plus grand que b\")\n",
    "    print('C\\'est déjà la fin de cette fonction')\n",
    "\n",
    "division(8, 4)\n",
    "division(8, \"a\") # Cet appel va créer une erreur car contient un string(TypeError)"
   ]
  },
  {
   "cell_type": "code",
   "execution_count": 9,
   "metadata": {},
   "outputs": [
    {
     "name": "stdout",
     "output_type": "stream",
     "text": [
      "-------------division 8/4----------------\n",
      "a est deux fois plus grand que b\n",
      "C'est déjà la fin du code\n",
      "-------------division 8/a----------------\n",
      "Il y a une erreur dans le code\n",
      "C'est déjà la fin du code\n",
      "-------------division 8/0----------------\n"
     ]
    },
    {
     "ename": "ZeroDivisionError",
     "evalue": "division by zero",
     "output_type": "error",
     "traceback": [
      "\u001b[1;31m---------------------------------------------------------------------------\u001b[0m",
      "\u001b[1;31mZeroDivisionError\u001b[0m                         Traceback (most recent call last)",
      "\u001b[1;32m<ipython-input-9-95b830982813>\u001b[0m in \u001b[0;36m<module>\u001b[1;34m\u001b[0m\n\u001b[0;32m     12\u001b[0m \u001b[0mdivision2\u001b[0m\u001b[1;33m(\u001b[0m\u001b[1;36m8\u001b[0m\u001b[1;33m,\u001b[0m \u001b[1;34m\"a\"\u001b[0m\u001b[1;33m)\u001b[0m\u001b[1;33m\u001b[0m\u001b[1;33m\u001b[0m\u001b[0m\n\u001b[0;32m     13\u001b[0m \u001b[0mprint\u001b[0m\u001b[1;33m(\u001b[0m\u001b[1;34m\"-------------division 8/0----------------\"\u001b[0m\u001b[1;33m)\u001b[0m\u001b[1;33m\u001b[0m\u001b[1;33m\u001b[0m\u001b[0m\n\u001b[1;32m---> 14\u001b[1;33m \u001b[0mdivision\u001b[0m\u001b[1;33m(\u001b[0m\u001b[1;36m8\u001b[0m\u001b[1;33m,\u001b[0m \u001b[1;36m0\u001b[0m\u001b[1;33m)\u001b[0m\u001b[1;33m\u001b[0m\u001b[1;33m\u001b[0m\u001b[0m\n\u001b[0m",
      "\u001b[1;32m<ipython-input-7-e8675a9bd473>\u001b[0m in \u001b[0;36mdivision\u001b[1;34m(a, b)\u001b[0m\n\u001b[0;32m      1\u001b[0m \u001b[1;32mdef\u001b[0m \u001b[0mdivision\u001b[0m\u001b[1;33m(\u001b[0m\u001b[0ma\u001b[0m\u001b[1;33m,\u001b[0m\u001b[0mb\u001b[0m\u001b[1;33m)\u001b[0m\u001b[1;33m:\u001b[0m\u001b[1;33m\u001b[0m\u001b[1;33m\u001b[0m\u001b[0m\n\u001b[1;32m----> 2\u001b[1;33m     \u001b[1;32mif\u001b[0m \u001b[0ma\u001b[0m \u001b[1;33m/\u001b[0m \u001b[0mb\u001b[0m \u001b[1;33m>=\u001b[0m \u001b[1;36m2\u001b[0m\u001b[1;33m:\u001b[0m\u001b[1;33m\u001b[0m\u001b[1;33m\u001b[0m\u001b[0m\n\u001b[0m\u001b[0;32m      3\u001b[0m         \u001b[0mprint\u001b[0m\u001b[1;33m(\u001b[0m\u001b[1;34m\"a est deux fois plus grand que b\"\u001b[0m\u001b[1;33m)\u001b[0m\u001b[1;33m\u001b[0m\u001b[1;33m\u001b[0m\u001b[0m\n\u001b[0;32m      4\u001b[0m     \u001b[0mprint\u001b[0m\u001b[1;33m(\u001b[0m\u001b[1;34m'C\\'est déjà la fin de cette fonction'\u001b[0m\u001b[1;33m)\u001b[0m\u001b[1;33m\u001b[0m\u001b[1;33m\u001b[0m\u001b[0m\n\u001b[0;32m      5\u001b[0m \u001b[1;33m\u001b[0m\u001b[0m\n",
      "\u001b[1;31mZeroDivisionError\u001b[0m: division by zero"
     ]
    }
   ],
   "source": [
    "def division2(a,b):\n",
    "    try:\n",
    "        if a / b >= 2:\n",
    "            print(\"a est deux fois plus grand que b\")\n",
    "    except:\n",
    "        print(\"Il y a une erreur dans le code\")\n",
    "    print(\"C'est déjà la fin du code\")\n",
    "\n",
    "print(\"-------------division 8/4----------------\")\n",
    "division2(8, 4)\n",
    "print(\"-------------division 8/a----------------\")\n",
    "division2(8, \"a\")\n",
    "print(\"-------------division 8/0----------------\")\n",
    "division(8, 0)# Cet appel va créer une erreur car division par 0 (ZeroDivisionError)"
   ]
  },
  {
   "cell_type": "code",
   "execution_count": 11,
   "metadata": {},
   "outputs": [
    {
     "name": "stdout",
     "output_type": "stream",
     "text": [
      "------------division3(8,2)--------------\n",
      "a est deux fois plus grand que b\n",
      "tout s'est bien passé\n",
      "c'est déja la fin de cette fonction\n",
      "------------division3(8,'a')------------\n",
      "unsupported operand type(s) for /: 'int' and 'str' Les données envoyées ne sont pas du bon type\n",
      "c'est déja la fin de cette fonction\n",
      "------------division3(8,0)--------------\n",
      "division by zero Tu essaies de diviser par 0\n",
      "c'est déja la fin de cette fonction\n"
     ]
    }
   ],
   "source": [
    "def division3(a,b):\n",
    "    try:\n",
    "        if a/b >= 2:\n",
    "            print(\"a est deux fois plus grand que b\")    \n",
    "    except TypeError as e:\n",
    "        print(e ,\"Les données envoyées ne sont pas du bon type\")\n",
    "    except ZeroDivisionError as e:\n",
    "        print(e ,\"Tu essaies de diviser par 0\") \n",
    "    except:\n",
    "        print(\"vous venez de rencontrer une erreur inconnue\")\n",
    "    else: # s'applique si le try fonctionne\n",
    "        print(\"tout s'est bien passé\")\n",
    "    finally:  # s'applique quelque soit le cas \n",
    "        print(\"c'est déja la fin de cette fonction\")\n",
    "\n",
    "print(\"------------division3(8,2)--------------\")\n",
    "division3(8,2)\n",
    "print(\"------------division3(8,'a')------------\")\n",
    "division3(8,\"a\")\n",
    "print(\"------------division3(8,0)--------------\")\n",
    "division3(8,0)\n"
   ]
  }
 ],
 "metadata": {
  "interpreter": {
   "hash": "7754f1c53bb33bd820706ba8feb51581fc4f65eb5997df896d4d8e79960a24e5"
  },
  "kernelspec": {
   "display_name": "Python 3.8.8 64-bit ('base': conda)",
   "language": "python",
   "name": "python3"
  },
  "language_info": {
   "codemirror_mode": {
    "name": "ipython",
    "version": 3
   },
   "file_extension": ".py",
   "mimetype": "text/x-python",
   "name": "python",
   "nbconvert_exporter": "python",
   "pygments_lexer": "ipython3",
   "version": "3.8.8"
  },
  "orig_nbformat": 4
 },
 "nbformat": 4,
 "nbformat_minor": 2
}

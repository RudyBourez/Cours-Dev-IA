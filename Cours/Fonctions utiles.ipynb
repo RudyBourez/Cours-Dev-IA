{
 "cells": [
  {
   "cell_type": "markdown",
   "metadata": {},
   "source": [
    "# <font color=\"red\">Les fonctions utiles</font>\n",
    "\n",
    "## <font color=\"blue\">Enumerate:</font>\n",
    "\n",
    "C'est une fonction build-in permettant de créer un compteur automatique\n"
   ]
  },
  {
   "cell_type": "code",
   "execution_count": null,
   "metadata": {},
   "outputs": [],
   "source": [
    "my_list = ['apple', \"banana\", \"raspberry\", \"blueberry\"]\n",
    "\n",
    "for counter, value in enumerate(my_list, 1):\n",
    "    print(counter, value)"
   ]
  },
  {
   "cell_type": "markdown",
   "metadata": {},
   "source": [
    "Il est donc possible de fusionner facilement plusieurs listes entre-elles à l'aide du compteur par exemple.\n",
    "\n",
    "## <font color=\"blue\">Zip:</font>\n",
    "\n",
    "La fonction zip() permet de fusionner plusieurs en une en créant une liste de tuples."
   ]
  },
  {
   "cell_type": "code",
   "execution_count": 3,
   "metadata": {},
   "outputs": [
    {
     "name": "stdout",
     "output_type": "stream",
     "text": [
      "[('A', 1, True), ('B', 2, True), ('C', 3, False), ('D', 4, True)]\n"
     ]
    }
   ],
   "source": [
    "list_1 = [\"A\", \"B\", \"C\", \"D\"]\n",
    "list_2 = [1, 2, 3, 4]\n",
    "list_3 = [True, True, False, True]\n",
    "\n",
    "list_zip = list(zip(list_1, list_2, list_3))\n",
    "print(list_zip)"
   ]
  },
  {
   "cell_type": "markdown",
   "metadata": {},
   "source": [
    "Il est également possible de \"dézip\" une liste en notant qu'il est important qu'il faut mettre * avant la variable liste"
   ]
  },
  {
   "cell_type": "code",
   "execution_count": 7,
   "metadata": {},
   "outputs": [
    {
     "name": "stdout",
     "output_type": "stream",
     "text": [
      "('A', 'B', 'C', 'D') (1, 2, 3, 4) (True, True, False, True)\n"
     ]
    }
   ],
   "source": [
    "list = [('A', 1, True), ('B', 2, True), ('C', 3, False), ('D', 4, True)]\n",
    "list_1, list_2, list_3 = zip(*list)\n",
    "print(list_1, list_2, list_3)"
   ]
  },
  {
   "cell_type": "markdown",
   "metadata": {},
   "source": [
    "## <font color=\"blue\">Lambda</font>\n",
    "\n",
    "Fonction anonyme que l'on peut définir sur une ligne"
   ]
  },
  {
   "cell_type": "code",
   "execution_count": null,
   "metadata": {},
   "outputs": [],
   "source": [
    "def multiply_by_2(x):\n",
    "    return 2 * x\n",
    "\n",
    "print(multiply_by_2(3))\n",
    "\n",
    "multiply_by_2_lambda = lambda x: 2 * x\n",
    "print(multiply_by_2_lambda(3))\n",
    "\n",
    "print((lambda x: 2 * x)(3))"
   ]
  },
  {
   "cell_type": "markdown",
   "metadata": {},
   "source": [
    "Tout ce que l'on peut faire avec une fonction lambda sont faisable avec une fonction définie. Ces fonctions sont utiles quand on cherche à utiliser une fonction une seule fois. Cas régulier, la fonction map() utilise une fonction comme argument, on applique donc souvent une fonction lambda. Même cas pour la fonction filter()"
   ]
  },
  {
   "cell_type": "markdown",
   "metadata": {},
   "source": [
    "## <font color=\"blue\">Map</font>\n",
    "\n",
    "Cette fonction permet d'appliquer une fonction à tous les élements d'une liste (souvent lambda)"
   ]
  },
  {
   "cell_type": "markdown",
   "metadata": {},
   "source": [
    "items = [1, 2, 3, 4, 5]  \n",
    "squared = list(map(lambda x: x**2, items))"
   ]
  },
  {
   "cell_type": "markdown",
   "metadata": {},
   "source": [
    "## <font color=\"blue\">Filter</font>\n",
    "\n",
    "Cette fonction s'utilise de la même manière que la fonction map mais cette fois on cherche à filtrer les élements d'une liste et non les modifier"
   ]
  },
  {
   "cell_type": "code",
   "execution_count": 5,
   "metadata": {},
   "outputs": [
    {
     "name": "stdout",
     "output_type": "stream",
     "text": [
      "[-5, -4, -3, -2, -1, 0, 1, 2, 3, 4]\n",
      "[-5, -4, -3, -2, -1]\n"
     ]
    }
   ],
   "source": [
    "number_list = list(range(-5, 5))\n",
    "less_than_zero = list(filter(lambda x: x < 0, number_list))\n",
    "\n",
    "print(number_list)\n",
    "print(less_than_zero)"
   ]
  }
 ],
 "metadata": {
  "interpreter": {
   "hash": "7754f1c53bb33bd820706ba8feb51581fc4f65eb5997df896d4d8e79960a24e5"
  },
  "kernelspec": {
   "display_name": "Python 3.8.8 64-bit ('base': conda)",
   "language": "python",
   "name": "python3"
  },
  "language_info": {
   "codemirror_mode": {
    "name": "ipython",
    "version": 3
   },
   "file_extension": ".py",
   "mimetype": "text/x-python",
   "name": "python",
   "nbconvert_exporter": "python",
   "pygments_lexer": "ipython3",
   "version": "3.8.8"
  },
  "orig_nbformat": 4
 },
 "nbformat": 4,
 "nbformat_minor": 2
}
